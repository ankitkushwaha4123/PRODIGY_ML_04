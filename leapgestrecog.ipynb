{
 "cells": [
  {
   "cell_type": "code",
   "execution_count": 1,
   "id": "7fa447dd",
   "metadata": {},
   "outputs": [
    {
     "name": "stdout",
     "output_type": "stream",
     "text": [
      "Requirement already satisfied: tensorflow==2.15 in c:\\users\\ankit kushwaha\\anaconda3\\lib\\site-packages (2.15.0)\n",
      "Requirement already satisfied: opencv-python in c:\\users\\ankit kushwaha\\anaconda3\\lib\\site-packages (4.11.0.86)\n",
      "Requirement already satisfied: scikit-learn in c:\\users\\ankit kushwaha\\anaconda3\\lib\\site-packages (1.3.0)\n",
      "Requirement already satisfied: matplotlib in c:\\users\\ankit kushwaha\\anaconda3\\lib\\site-packages (3.7.2)\n",
      "Requirement already satisfied: tensorflow-intel==2.15.0 in c:\\users\\ankit kushwaha\\anaconda3\\lib\\site-packages (from tensorflow==2.15) (2.15.0)\n",
      "Requirement already satisfied: absl-py>=1.0.0 in c:\\users\\ankit kushwaha\\anaconda3\\lib\\site-packages (from tensorflow-intel==2.15.0->tensorflow==2.15) (2.3.1)\n",
      "Requirement already satisfied: astunparse>=1.6.0 in c:\\users\\ankit kushwaha\\anaconda3\\lib\\site-packages (from tensorflow-intel==2.15.0->tensorflow==2.15) (1.6.3)\n",
      "Requirement already satisfied: flatbuffers>=23.5.26 in c:\\users\\ankit kushwaha\\anaconda3\\lib\\site-packages (from tensorflow-intel==2.15.0->tensorflow==2.15) (25.2.10)\n",
      "Requirement already satisfied: gast!=0.5.0,!=0.5.1,!=0.5.2,>=0.2.1 in c:\\users\\ankit kushwaha\\anaconda3\\lib\\site-packages (from tensorflow-intel==2.15.0->tensorflow==2.15) (0.6.0)\n",
      "Requirement already satisfied: google-pasta>=0.1.1 in c:\\users\\ankit kushwaha\\anaconda3\\lib\\site-packages (from tensorflow-intel==2.15.0->tensorflow==2.15) (0.2.0)\n",
      "Requirement already satisfied: h5py>=2.9.0 in c:\\users\\ankit kushwaha\\anaconda3\\lib\\site-packages (from tensorflow-intel==2.15.0->tensorflow==2.15) (3.14.0)\n",
      "Requirement already satisfied: libclang>=13.0.0 in c:\\users\\ankit kushwaha\\anaconda3\\lib\\site-packages (from tensorflow-intel==2.15.0->tensorflow==2.15) (18.1.1)\n",
      "Requirement already satisfied: ml-dtypes~=0.2.0 in c:\\users\\ankit kushwaha\\anaconda3\\lib\\site-packages (from tensorflow-intel==2.15.0->tensorflow==2.15) (0.2.0)\n",
      "Requirement already satisfied: numpy<2.0.0,>=1.23.5 in c:\\users\\ankit kushwaha\\anaconda3\\lib\\site-packages (from tensorflow-intel==2.15.0->tensorflow==2.15) (1.26.4)\n",
      "Requirement already satisfied: opt-einsum>=2.3.2 in c:\\users\\ankit kushwaha\\anaconda3\\lib\\site-packages (from tensorflow-intel==2.15.0->tensorflow==2.15) (3.4.0)\n",
      "Requirement already satisfied: packaging in c:\\users\\ankit kushwaha\\anaconda3\\lib\\site-packages (from tensorflow-intel==2.15.0->tensorflow==2.15) (23.1)\n",
      "Requirement already satisfied: protobuf!=4.21.0,!=4.21.1,!=4.21.2,!=4.21.3,!=4.21.4,!=4.21.5,<5.0.0dev,>=3.20.3 in c:\\users\\ankit kushwaha\\anaconda3\\lib\\site-packages (from tensorflow-intel==2.15.0->tensorflow==2.15) (4.25.8)\n",
      "Requirement already satisfied: setuptools in c:\\users\\ankit kushwaha\\anaconda3\\lib\\site-packages (from tensorflow-intel==2.15.0->tensorflow==2.15) (68.0.0)\n",
      "Requirement already satisfied: six>=1.12.0 in c:\\users\\ankit kushwaha\\anaconda3\\lib\\site-packages (from tensorflow-intel==2.15.0->tensorflow==2.15) (1.16.0)\n",
      "Requirement already satisfied: termcolor>=1.1.0 in c:\\users\\ankit kushwaha\\anaconda3\\lib\\site-packages (from tensorflow-intel==2.15.0->tensorflow==2.15) (3.1.0)\n",
      "Requirement already satisfied: typing-extensions>=3.6.6 in c:\\users\\ankit kushwaha\\anaconda3\\lib\\site-packages (from tensorflow-intel==2.15.0->tensorflow==2.15) (4.7.1)\n",
      "Requirement already satisfied: wrapt<1.15,>=1.11.0 in c:\\users\\ankit kushwaha\\anaconda3\\lib\\site-packages (from tensorflow-intel==2.15.0->tensorflow==2.15) (1.14.1)\n",
      "Requirement already satisfied: tensorflow-io-gcs-filesystem>=0.23.1 in c:\\users\\ankit kushwaha\\anaconda3\\lib\\site-packages (from tensorflow-intel==2.15.0->tensorflow==2.15) (0.31.0)\n",
      "Requirement already satisfied: grpcio<2.0,>=1.24.3 in c:\\users\\ankit kushwaha\\anaconda3\\lib\\site-packages (from tensorflow-intel==2.15.0->tensorflow==2.15) (1.74.0)\n",
      "Requirement already satisfied: tensorboard<2.16,>=2.15 in c:\\users\\ankit kushwaha\\anaconda3\\lib\\site-packages (from tensorflow-intel==2.15.0->tensorflow==2.15) (2.15.2)\n",
      "Requirement already satisfied: tensorflow-estimator<2.16,>=2.15.0 in c:\\users\\ankit kushwaha\\anaconda3\\lib\\site-packages (from tensorflow-intel==2.15.0->tensorflow==2.15) (2.15.0)\n",
      "Requirement already satisfied: keras<2.16,>=2.15.0 in c:\\users\\ankit kushwaha\\anaconda3\\lib\\site-packages (from tensorflow-intel==2.15.0->tensorflow==2.15) (2.15.0)\n",
      "Requirement already satisfied: scipy>=1.5.0 in c:\\users\\ankit kushwaha\\anaconda3\\lib\\site-packages (from scikit-learn) (1.16.1)\n",
      "Requirement already satisfied: joblib>=1.1.1 in c:\\users\\ankit kushwaha\\anaconda3\\lib\\site-packages (from scikit-learn) (1.2.0)\n",
      "Requirement already satisfied: threadpoolctl>=2.0.0 in c:\\users\\ankit kushwaha\\anaconda3\\lib\\site-packages (from scikit-learn) (2.2.0)\n",
      "Requirement already satisfied: contourpy>=1.0.1 in c:\\users\\ankit kushwaha\\anaconda3\\lib\\site-packages (from matplotlib) (1.0.5)\n",
      "Requirement already satisfied: cycler>=0.10 in c:\\users\\ankit kushwaha\\anaconda3\\lib\\site-packages (from matplotlib) (0.11.0)\n",
      "Requirement already satisfied: fonttools>=4.22.0 in c:\\users\\ankit kushwaha\\anaconda3\\lib\\site-packages (from matplotlib) (4.25.0)\n",
      "Requirement already satisfied: kiwisolver>=1.0.1 in c:\\users\\ankit kushwaha\\anaconda3\\lib\\site-packages (from matplotlib) (1.4.4)\n",
      "Requirement already satisfied: pillow>=6.2.0 in c:\\users\\ankit kushwaha\\anaconda3\\lib\\site-packages (from matplotlib) (11.3.0)\n",
      "Requirement already satisfied: pyparsing<3.1,>=2.3.1 in c:\\users\\ankit kushwaha\\anaconda3\\lib\\site-packages (from matplotlib) (3.0.9)\n",
      "Requirement already satisfied: python-dateutil>=2.7 in c:\\users\\ankit kushwaha\\anaconda3\\lib\\site-packages (from matplotlib) (2.8.2)\n",
      "Requirement already satisfied: wheel<1.0,>=0.23.0 in c:\\users\\ankit kushwaha\\anaconda3\\lib\\site-packages (from astunparse>=1.6.0->tensorflow-intel==2.15.0->tensorflow==2.15) (0.38.4)\n",
      "Requirement already satisfied: google-auth<3,>=1.6.3 in c:\\users\\ankit kushwaha\\anaconda3\\lib\\site-packages (from tensorboard<2.16,>=2.15->tensorflow-intel==2.15.0->tensorflow==2.15) (2.40.3)\n",
      "Requirement already satisfied: google-auth-oauthlib<2,>=0.5 in c:\\users\\ankit kushwaha\\anaconda3\\lib\\site-packages (from tensorboard<2.16,>=2.15->tensorflow-intel==2.15.0->tensorflow==2.15) (1.2.2)\n",
      "Requirement already satisfied: markdown>=2.6.8 in c:\\users\\ankit kushwaha\\anaconda3\\lib\\site-packages (from tensorboard<2.16,>=2.15->tensorflow-intel==2.15.0->tensorflow==2.15) (3.4.1)\n",
      "Requirement already satisfied: requests<3,>=2.21.0 in c:\\users\\ankit kushwaha\\anaconda3\\lib\\site-packages (from tensorboard<2.16,>=2.15->tensorflow-intel==2.15.0->tensorflow==2.15) (2.31.0)\n",
      "Requirement already satisfied: tensorboard-data-server<0.8.0,>=0.7.0 in c:\\users\\ankit kushwaha\\anaconda3\\lib\\site-packages (from tensorboard<2.16,>=2.15->tensorflow-intel==2.15.0->tensorflow==2.15) (0.7.2)\n",
      "Requirement already satisfied: werkzeug>=1.0.1 in c:\\users\\ankit kushwaha\\anaconda3\\lib\\site-packages (from tensorboard<2.16,>=2.15->tensorflow-intel==2.15.0->tensorflow==2.15) (2.2.3)\n",
      "Requirement already satisfied: cachetools<6.0,>=2.0.0 in c:\\users\\ankit kushwaha\\anaconda3\\lib\\site-packages (from google-auth<3,>=1.6.3->tensorboard<2.16,>=2.15->tensorflow-intel==2.15.0->tensorflow==2.15) (5.5.2)\n",
      "Requirement already satisfied: pyasn1-modules>=0.2.1 in c:\\users\\ankit kushwaha\\anaconda3\\lib\\site-packages (from google-auth<3,>=1.6.3->tensorboard<2.16,>=2.15->tensorflow-intel==2.15.0->tensorflow==2.15) (0.2.8)\n",
      "Requirement already satisfied: rsa<5,>=3.1.4 in c:\\users\\ankit kushwaha\\anaconda3\\lib\\site-packages (from google-auth<3,>=1.6.3->tensorboard<2.16,>=2.15->tensorflow-intel==2.15.0->tensorflow==2.15) (4.9.1)\n",
      "Requirement already satisfied: requests-oauthlib>=0.7.0 in c:\\users\\ankit kushwaha\\anaconda3\\lib\\site-packages (from google-auth-oauthlib<2,>=0.5->tensorboard<2.16,>=2.15->tensorflow-intel==2.15.0->tensorflow==2.15) (2.0.0)\n",
      "Requirement already satisfied: charset-normalizer<4,>=2 in c:\\users\\ankit kushwaha\\anaconda3\\lib\\site-packages (from requests<3,>=2.21.0->tensorboard<2.16,>=2.15->tensorflow-intel==2.15.0->tensorflow==2.15) (2.0.4)\n",
      "Requirement already satisfied: idna<4,>=2.5 in c:\\users\\ankit kushwaha\\anaconda3\\lib\\site-packages (from requests<3,>=2.21.0->tensorboard<2.16,>=2.15->tensorflow-intel==2.15.0->tensorflow==2.15) (3.4)\n",
      "Requirement already satisfied: urllib3<3,>=1.21.1 in c:\\users\\ankit kushwaha\\anaconda3\\lib\\site-packages (from requests<3,>=2.21.0->tensorboard<2.16,>=2.15->tensorflow-intel==2.15.0->tensorflow==2.15) (1.26.16)\n",
      "Requirement already satisfied: certifi>=2017.4.17 in c:\\users\\ankit kushwaha\\anaconda3\\lib\\site-packages (from requests<3,>=2.21.0->tensorboard<2.16,>=2.15->tensorflow-intel==2.15.0->tensorflow==2.15) (2023.7.22)\n",
      "Requirement already satisfied: MarkupSafe>=2.1.1 in c:\\users\\ankit kushwaha\\anaconda3\\lib\\site-packages (from werkzeug>=1.0.1->tensorboard<2.16,>=2.15->tensorflow-intel==2.15.0->tensorflow==2.15) (2.1.1)\n",
      "Requirement already satisfied: pyasn1<0.5.0,>=0.4.6 in c:\\users\\ankit kushwaha\\anaconda3\\lib\\site-packages (from pyasn1-modules>=0.2.1->google-auth<3,>=1.6.3->tensorboard<2.16,>=2.15->tensorflow-intel==2.15.0->tensorflow==2.15) (0.4.8)\n",
      "Requirement already satisfied: oauthlib>=3.0.0 in c:\\users\\ankit kushwaha\\anaconda3\\lib\\site-packages (from requests-oauthlib>=0.7.0->google-auth-oauthlib<2,>=0.5->tensorboard<2.16,>=2.15->tensorflow-intel==2.15.0->tensorflow==2.15) (3.3.1)\n"
     ]
    }
   ],
   "source": [
    "!pip install tensorflow==2.15 opencv-python scikit-learn matplotlib\n"
   ]
  },
  {
   "cell_type": "code",
   "execution_count": 14,
   "id": "db75b481",
   "metadata": {},
   "outputs": [
    {
     "name": "stdout",
     "output_type": "stream",
     "text": [
      "2.15.0\n"
     ]
    }
   ],
   "source": [
    "import tensorflow as tf\n",
    "from tensorflow.keras import layers, models\n",
    "\n",
    "print(tf.__version__)\n"
   ]
  },
  {
   "cell_type": "code",
   "execution_count": 26,
   "id": "5a32c950",
   "metadata": {},
   "outputs": [
    {
     "name": "stdout",
     "output_type": "stream",
     "text": [
      "Path exists: True\n",
      "Subjects: ['00', '01', '02', '03', '04', '05', '06', '07', '08', '09', 'leapGestRecog']\n"
     ]
    }
   ],
   "source": [
    "from pathlib import Path\n",
    "\n",
    "RAW_ROOT = Path(r\"C:\\Users\\Ankit Kushwaha\\Desktop\\leapGestRecog\\archive (4)\\leapGestRecog\")\n",
    "print(\"Path exists:\", RAW_ROOT.exists())\n",
    "\n",
    "subject_dirs = sorted([p for p in RAW_ROOT.iterdir() if p.is_dir()])\n",
    "print(\"Subjects:\", [s.name for s in subject_dirs])\n",
    "\n"
   ]
  },
  {
   "cell_type": "code",
   "execution_count": 27,
   "id": "877af664",
   "metadata": {},
   "outputs": [
    {
     "name": "stdout",
     "output_type": "stream",
     "text": [
      "TensorFlow version: 2.15.0\n",
      "Installed location: C:\\Users\\Ankit Kushwaha\\anaconda3\\Lib\\site-packages\\tensorflow\\__init__.py\n"
     ]
    }
   ],
   "source": [
    "import tensorflow as tf\n",
    "print(\"TensorFlow version:\", tf.__version__)\n",
    "print(\"Installed location:\", tf.__file__)\n",
    "from tensorflow.keras import layers, models\n"
   ]
  },
  {
   "cell_type": "code",
   "execution_count": 28,
   "id": "50943b54",
   "metadata": {},
   "outputs": [],
   "source": [
    "import os, re, random, json\n",
    "import numpy as np\n",
    "import tensorflow as tf\n",
    "from tensorflow.keras import layers, models\n",
    "import matplotlib.pyplot as plt\n"
   ]
  },
  {
   "cell_type": "code",
   "execution_count": 29,
   "id": "ed0e4d8e",
   "metadata": {},
   "outputs": [
    {
     "name": "stdout",
     "output_type": "stream",
     "text": [
      "Label map: {'palm': 0, 'l': 1, 'fist': 2, 'fist_moved': 3, 'thumb': 4, 'index': 5, 'ok': 6, 'palm_moved': 7, 'c': 8, 'palm_down': 9}\n"
     ]
    }
   ],
   "source": [
    "IMG_SIZE = (160, 160)\n",
    "BATCH_SIZE = 64\n",
    "SEED = 42\n",
    "random.seed(SEED)\n",
    "\n",
    "# Label mapping\n",
    "gesture_names = [\"palm\",\"l\",\"fist\",\"fist_moved\",\"thumb\",\"index\",\"ok\",\"palm_moved\",\"c\",\"palm_down\"]\n",
    "label_map = {name: i for i, name in enumerate(gesture_names)}\n",
    "print(\"Label map:\", label_map)\n"
   ]
  },
  {
   "cell_type": "code",
   "execution_count": 30,
   "id": "ddbf1464",
   "metadata": {},
   "outputs": [],
   "source": [
    "def make_dataset(paths_labels, training=False):\n",
    "    paths, labels = zip(*paths_labels)\n",
    "    ds = tf.data.Dataset.from_tensor_slices((list(paths), list(labels)))\n",
    "\n",
    "    def _load(path, label):\n",
    "        img = tf.io.read_file(path)\n",
    "        img = tf.io.decode_png(img, channels=1)\n",
    "        img = tf.image.resize(img, IMG_SIZE)\n",
    "        img = tf.image.grayscale_to_rgb(img)\n",
    "        img = tf.cast(img, tf.float32) / 255.0\n",
    "        return img, tf.one_hot(label, depth=len(label_map))\n",
    "\n",
    "    ds = ds.map(_load, num_parallel_calls=tf.data.AUTOTUNE)\n",
    "    if training:\n",
    "        aug = tf.keras.Sequential([\n",
    "            layers.RandomFlip(\"horizontal\"),\n",
    "            layers.RandomRotation(0.05),\n",
    "            layers.RandomContrast(0.1),\n",
    "        ])\n",
    "        ds = ds.map(lambda x, y: (aug(x, training=True), y))\n",
    "        ds = ds.shuffle(1000, seed=SEED)\n",
    "    return ds.batch(BATCH_SIZE).prefetch(tf.data.AUTOTUNE)\n"
   ]
  },
  {
   "cell_type": "code",
   "execution_count": 31,
   "id": "6206789b",
   "metadata": {},
   "outputs": [
    {
     "name": "stdout",
     "output_type": "stream",
     "text": [
      "Total images: 14000\n",
      "Train: 11200, Val: 1400, Test: 1400\n"
     ]
    }
   ],
   "source": [
    "records = []\n",
    "for subj in subject_dirs:\n",
    "    for gesture in subj.iterdir():\n",
    "        gname = gesture.name.split(\"_\")[-1].lower()\n",
    "        if gname not in label_map: continue\n",
    "        label = label_map[gname]\n",
    "        for img in gesture.glob(\"*.png\"):\n",
    "            records.append((str(img), label, subj.name))\n",
    "\n",
    "print(\"Total images:\", len(records))\n",
    "\n",
    "# Split by subjects (8 train, 1 val, 1 test)\n",
    "subjects = sorted(set(r[2] for r in records))\n",
    "random.shuffle(subjects)\n",
    "train_subj, val_subj, test_subj = subjects[:8], subjects[8:9], subjects[9:10]\n",
    "\n",
    "train_recs = [(p,l) for p,l,s in records if s in train_subj]\n",
    "val_recs   = [(p,l) for p,l,s in records if s in val_subj]\n",
    "test_recs  = [(p,l) for p,l,s in records if s in test_subj]\n",
    "\n",
    "print(f\"Train: {len(train_recs)}, Val: {len(val_recs)}, Test: {len(test_recs)}\")\n",
    "\n",
    "train_ds = make_dataset(train_recs, training=True)\n",
    "val_ds   = make_dataset(val_recs)\n",
    "test_ds  = make_dataset(test_recs)\n"
   ]
  },
  {
   "cell_type": "code",
   "execution_count": 32,
   "id": "6be8e041",
   "metadata": {},
   "outputs": [
    {
     "name": "stdout",
     "output_type": "stream",
     "text": [
      "Model: \"model_1\"\n",
      "_________________________________________________________________\n",
      " Layer (type)                Output Shape              Param #   \n",
      "=================================================================\n",
      " input_4 (InputLayer)        [(None, 160, 160, 3)]     0         \n",
      "                                                                 \n",
      " tf.math.truediv_1 (TFOpLam  (None, 160, 160, 3)       0         \n",
      " bda)                                                            \n",
      "                                                                 \n",
      " tf.math.subtract_1 (TFOpLa  (None, 160, 160, 3)       0         \n",
      " mbda)                                                           \n",
      "                                                                 \n",
      " mobilenetv2_1.00_160 (Func  (None, 5, 5, 1280)        2257984   \n",
      " tional)                                                         \n",
      "                                                                 \n",
      " global_average_pooling2d_1  (None, 1280)              0         \n",
      "  (GlobalAveragePooling2D)                                       \n",
      "                                                                 \n",
      " dense_2 (Dense)             (None, 256)               327936    \n",
      "                                                                 \n",
      " dropout_1 (Dropout)         (None, 256)               0         \n",
      "                                                                 \n",
      " dense_3 (Dense)             (None, 10)                2570      \n",
      "                                                                 \n",
      "=================================================================\n",
      "Total params: 2588490 (9.87 MB)\n",
      "Trainable params: 330506 (1.26 MB)\n",
      "Non-trainable params: 2257984 (8.61 MB)\n",
      "_________________________________________________________________\n"
     ]
    }
   ],
   "source": [
    "base = tf.keras.applications.MobileNetV2(input_shape=(*IMG_SIZE,3),\n",
    "                                         include_top=False,\n",
    "                                         weights=\"imagenet\")\n",
    "base.trainable = False\n",
    "\n",
    "inputs = layers.Input(shape=(*IMG_SIZE,3))\n",
    "x = tf.keras.applications.mobilenet_v2.preprocess_input(inputs)\n",
    "x = base(x, training=False)\n",
    "x = layers.GlobalAveragePooling2D()(x)\n",
    "x = layers.Dense(256, activation=\"relu\")(x)\n",
    "x = layers.Dropout(0.3)(x)\n",
    "outputs = layers.Dense(len(label_map), activation=\"softmax\")(x)\n",
    "\n",
    "model = models.Model(inputs, outputs)\n",
    "model.compile(optimizer=tf.keras.optimizers.Adam(1e-3),\n",
    "              loss=\"categorical_crossentropy\",\n",
    "              metrics=[\"accuracy\"])\n",
    "model.summary()\n"
   ]
  },
  {
   "cell_type": "code",
   "execution_count": null,
   "id": "ca75516c",
   "metadata": {},
   "outputs": [
    {
     "name": "stdout",
     "output_type": "stream",
     "text": [
      "Epoch 1/15\n",
      "WARNING:tensorflow:From C:\\Users\\Ankit Kushwaha\\anaconda3\\Lib\\site-packages\\keras\\src\\utils\\tf_utils.py:492: The name tf.ragged.RaggedTensorValue is deprecated. Please use tf.compat.v1.ragged.RaggedTensorValue instead.\n",
      "\n",
      "WARNING:tensorflow:From C:\\Users\\Ankit Kushwaha\\anaconda3\\Lib\\site-packages\\keras\\src\\engine\\base_layer_utils.py:384: The name tf.executing_eagerly_outside_functions is deprecated. Please use tf.compat.v1.executing_eagerly_outside_functions instead.\n",
      "\n",
      "114/175 [==================>...........] - ETA: 38s - loss: 2.1103 - accuracy: 0.1420"
     ]
    }
   ],
   "source": [
    "history = model.fit(train_ds,\n",
    "                    validation_data=val_ds,\n",
    "                    epochs=15)\n"
   ]
  },
  {
   "cell_type": "code",
   "execution_count": null,
   "id": "867cec1c",
   "metadata": {},
   "outputs": [],
   "source": [
    "base.trainable = True\n",
    "for layer in base.layers[:-40]:\n",
    "    layer.trainable = False\n",
    "\n",
    "model.compile(optimizer=tf.keras.optimizers.Adam(1e-4),\n",
    "              loss=\"categorical_crossentropy\",\n",
    "              metrics=[\"accuracy\"])\n",
    "\n",
    "history_ft = model.fit(train_ds,\n",
    "                       validation_data=val_ds,\n",
    "                       epochs=8)\n"
   ]
  },
  {
   "cell_type": "code",
   "execution_count": null,
   "id": "6387a9c7",
   "metadata": {},
   "outputs": [],
   "source": [
    "loss, acc = model.evaluate(test_ds)\n",
    "print(\"Test accuracy:\", acc)\n"
   ]
  },
  {
   "cell_type": "code",
   "execution_count": null,
   "id": "22622f31",
   "metadata": {},
   "outputs": [],
   "source": [
    "def predict_image(path):\n",
    "    img = tf.io.read_file(path)\n",
    "    img = tf.io.decode_png(img, channels=1)\n",
    "    img = tf.image.resize(img, IMG_SIZE)\n",
    "    img = tf.image.grayscale_to_rgb(img)\n",
    "    img = tf.cast(img, tf.float32) / 255.0\n",
    "    x = tf.expand_dims(img, 0)\n",
    "    preds = model.predict(x)\n",
    "    pred_id = np.argmax(preds)\n",
    "    return gesture_names[pred_id], float(np.max(preds))\n",
    "\n",
    "print(predict_image(test_recs[0][0]))\n"
   ]
  },
  {
   "cell_type": "code",
   "execution_count": null,
   "id": "8894c1ae",
   "metadata": {},
   "outputs": [],
   "source": [
    "import cv2\n",
    "\n",
    "cap = cv2.VideoCapture(0)\n",
    "while True:\n",
    "    ret, frame = cap.read()\n",
    "    if not ret: break\n",
    "    gray = cv2.cvtColor(frame, cv2.COLOR_BGR2GRAY)\n",
    "    gray = cv2.resize(gray, IMG_SIZE[::-1])\n",
    "    rgb = cv2.cvtColor(gray, cv2.COLOR_GRAY2RGB)\n",
    "    x = np.expand_dims(rgb.astype(\"float32\")/255.0, 0)\n",
    "    preds = model.predict(x, verbose=0)\n",
    "    pred = gesture_names[np.argmax(preds)]\n",
    "    conf = np.max(preds)\n",
    "    cv2.putText(frame, f\\\"{pred} ({conf:.2f})\\\", (10,40),\n",
    "                cv2.FONT_HERSHEY_SIMPLEX, 1, (0,255,0), 2)\n",
    "    cv2.imshow(\\\"Gesture\\\", frame)\n",
    "    if cv2.waitKey(1) & 0xFF == ord('q'): break\n",
    "cap.release()\n",
    "cv2.destroyAllWindows()\n"
   ]
  },
  {
   "cell_type": "code",
   "execution_count": null,
   "id": "a430d49b",
   "metadata": {},
   "outputs": [],
   "source": []
  }
 ],
 "metadata": {
  "kernelspec": {
   "display_name": "Python 3 (ipykernel)",
   "language": "python",
   "name": "python3"
  },
  "language_info": {
   "codemirror_mode": {
    "name": "ipython",
    "version": 3
   },
   "file_extension": ".py",
   "mimetype": "text/x-python",
   "name": "python",
   "nbconvert_exporter": "python",
   "pygments_lexer": "ipython3",
   "version": "3.11.5"
  }
 },
 "nbformat": 4,
 "nbformat_minor": 5
}
